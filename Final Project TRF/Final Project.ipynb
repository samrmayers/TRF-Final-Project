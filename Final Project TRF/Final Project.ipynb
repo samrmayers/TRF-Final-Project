{
 "cells": [
  {
   "cell_type": "markdown",
   "metadata": {},
   "source": [
    "# Word Embeddings and Religious Texts"
   ]
  },
  {
   "cell_type": "markdown",
   "metadata": {},
   "source": [
    "## Table of Contents:\n",
    "* [1. Introduction](#first-bullet)\n",
    "* [2. Texts](#second-bullet)\n",
    "* [3. Methods](#third-bullet)\n",
    "* [4. Analysis](#fourth-bullet)\n",
    "* [5. Results](#fifth-bullet)\n",
    "* [6. Conclusions](#sixth-bullet)\n",
    "* [7. References](#seventh-bullet)"
   ]
  },
  {
   "cell_type": "markdown",
   "metadata": {},
   "source": [
    "## 1. Introduction <a class=\"anchor\" id=\"first-bullet\"></a>"
   ]
  },
  {
   "cell_type": "markdown",
   "metadata": {},
   "source": [
    "We read hundreds of texts this semester, each detailing arguments relating to Technology, Religion, and the Future. Almost all of our authors used the written word to convey their ideas. Marshall McLuhan, author of $\\textit{Understanding Media}$, describes how the medium changes the message. The way information is presented to us changes its fundamental meaning through how we interact with the medium. For example, meetings through Zoom have features such as the chat and the raise-hand button. Meetings in person have no alternate way to communicate (i.e. through the chat) and people can use their body language and eye contact in order to navigate when to jump in and participate, which is impossible over Zoom. In Zoom meetings, you are able to turn your camera off, whereas in person, this is obviously not an option. These differences can lead to profound changes in the meeting, from engagement (through barriers to participation), fatigue (through the effect of the panopticon  $^1$), to efficiency (Zoom has a poll feature; perhaps consensus may be more easily reached), among others. Since it is clear that the medium changes the message, the most essential medium for these texts is the written word. Beyond an online PDF versus a paperback book, all of these texts we consumed through reading, and these authors chose to convey their message through the written word. The written word is the medium that I will analyze."
   ]
  },
  {
   "cell_type": "markdown",
   "metadata": {},
   "source": [
    "$^1$ The panopticon was theorized by Jeremy Bentham with a prison in mind, leading to constant self-monitoring of prisoners' behaviors. The idea is that the prisoners could potentially always be under surveillence, but they can never be sure, leading to constant ideal behavior. Participants in Zoom never know when they are being watched, yet potentially could be constantly watched. This effect is particularly exhausting and mentally strenuous."
   ]
  },
  {
   "cell_type": "markdown",
   "metadata": {},
   "source": [
    "Many of the texts we studied emphasize the importance of language. Ray Kurzweil, author of $\\textit{The Singularity is Near}$, uses language that not only mimics religiosity, but also inspires religious devotion from his followers. As a result, people who believe in the Singularity, known as Singulatarians, describe their experiences using religious terms. Kirstin Kodegaard, author of an article called $\\textit{Ich Bin Ein Singularitarian}$, describes her husband as a Singulatarian and his worship of the Singularity. She writes that Kurzweil’s book is her husband’s bible in her article named after the chapter of Kurzweil’s book meaning “I am a Singulatarian.” The language used by his followers is not an accident; it comes directly from the language Kurzweil himself used.\n",
    "\n",
    "It is not difficult to see where Kurzweil's followers' religious observance comes from. Kurzweil descibes the Singularity is the inevitable convergence to a rate of essentially infinite technological progress that will incomprehensibly alter human life. Humans will \"transcend beyond their biological limitations,\" have \"our mortality in our own hands,\" and \"gain power over our fates.\" The Singularity predicts our \"biological bodies\" will be \"irreversibly transformed.\" These quoted phrases, used by Kurzweil in his book, mimic the language used by many religions. The Christian bible states “And then we who are living will be transformed so that we will never die. For our perishable earthly bodies must be transformed into heavenly bodies that will never die\" 1 Corinthians 15:52-53. Transformation, transcendence, fate, immortality, perfection; these common religious terms appear as foundational language of Kurzweil's book. His use of religious terms play a pivotol role in shaping his ideas, and thus, his readers' ideas. "
   ]
  },
  {
   "cell_type": "markdown",
   "metadata": {},
   "source": [
    "Furthermore, we read about instances where language imposed limitations on the expression of ideas. Itzik Lodzer, in his paper $\\textit{Notes from the Jewish Underground: Psychedelics and Kabbalah}$, describes the failures of language; \"mystics have ever been wary about the limitations of language: words seem to bind them to earth, forcing them to discourse in neatly boxed categories on that which by nature seeks to flow, to soar, transcending all possible verbal boxes.\" The concept that language not only shapes ideas, but creates boundaries for ideas, is not new. George Orwell's $\\textit{1984}$ explores the role of language in limiting the ability to construct thoughts and by extension, convey experiences. A character says to the main character of the new, highly condensed language being developed by the authoritarian party in control, “'Don't you see that the whole aim of Newspeak is to narrow the range of thought? In the end we shall make thoughtcrime literally impossible, because there will be no words in which to express it.'” We can only communicate in the boundaries of our language, and Orwell takes it further by arguing that we can only $\\textit{think}$ within the boundaries of our language. Clearly, language is a powerful tool and our word choices carry weight. "
   ]
  },
  {
   "cell_type": "markdown",
   "metadata": {},
   "source": [
    "The goal of this project is to look at how a text defines the meaning of its words. The distributional hypothesis from linguistics states that the meaning of a word can be determined from the contexts it appears in (From my NLP Professor, Dr. Kathleen McKeown [5](#reference5)). Thus, similar words will appear in similar contexts. If a word gains its meaning from its context, then the context in which the word is used is foundational in determining the word's meaning. Does this mean that the \"transformation\" or \"transcendence\" referred to by Kurzweil is distinct from the \"transformation\" or \"transcendence\" referenced in the Bible? Are the Transhumanists who believe that the Singularity is the same as the Christian Rapture wrong, because although the words used to describe the two events are the same, their contexts lead to completely different meanings? Could the technological setting of Kurzweil's  book lead to the same word meanings as the thousands-of-years old Bible? I will explore these questions in the following analysis."
   ]
  },
  {
   "cell_type": "markdown",
   "metadata": {},
   "source": [
    "## 2. Texts <a class=\"anchor\" id=\"second-bullet\"></a>"
   ]
  },
  {
   "cell_type": "markdown",
   "metadata": {},
   "source": [
    "The texts analyzed in this project are:\n",
    "1. The Torah \n",
    "    - Genesis\n",
    "    - Exodus\n",
    "    - Leviticus\n",
    "    - Numbers \n",
    "    - Deuteronomy\n",
    "2. The New Testament\n",
    "3. The Quran\n",
    "4. Mahayana Buddhism Sutras (picked out from [Reference 1](#reference1))\n",
    "    - Brahmajala Sutra\n",
    "    - Avatamsaka Sutra\n",
    "    - Shurangama Sutra\n",
    "    - Lankavatara Sutra\n",
    "    - Saddharma Pundarika Sutra\n",
    "    - Mahaparinirvana Sutra\n",
    "    - Vimalakirti Sutra\n",
    "5. $\\textit{The Singularity is Near}$\n",
    "\n",
    "I found links or PDFs for these texts online and used the code in the \"Methods\" section to convert them into a format I could more easily use. I chose texts 1-4 because of their significance in worldwide religion, and text 5 because of its significance in our class. In Section 4, I provide all the code I wrote so you can do analysis on different texts if you want."
   ]
  },
  {
   "cell_type": "markdown",
   "metadata": {},
   "source": [
    "## 3. Methods <a class=\"anchor\" id=\"third-bullet\"></a>"
   ]
  },
  {
   "cell_type": "markdown",
   "metadata": {},
   "source": [
    "In order to analyze these meanings of different words in these texts, first the words must be converted into a quantitative format. I will be using word embeddings through calculating a real-valued vector for the words in each text such that the distributional hypothesis holds, and words that are more similar in meaning will occur closer in the vector space to one another.\n",
    "\n",
    "Generally, the idea behind a word embedding is to create a vector that encodes the word's meaning. Some simple models are created by sliding a \"context window\" over all the sentences in a given corpus (i.e. a text) and counting how many times each word occurs in this context window with every other word. A matrix is created, called the \"co-occurance matrix,\" that stores these co-occurances (i.e. the count of times each word \"co-occurs\" with every other word for a given context window). The rows of this matrix are the vocabulary of the corpus, and the columns (also the vocabulary of the corpus) are the context words. By normalizing the counts, the numbers in this matrix can be converted into estimated probabilities. Usually these matrices are enormous and sparse, so they are condensed using methods such as Singular Value Decomposition (SVD).\n",
    "\n",
    "While there are many methods that can be used to create word embeddings like the one demonstrated above, I chose Word2Vec for its ease. Word2Vec uses a neural approach, by predicting the context that occurs for each word using a neural network. This results in a vector of probabilities of context words for each word, which are then our word embeddings. I used the gensim package in Python (link $\\href{https://radimrehurek.com/gensim/auto_examples/tutorials/run_word2vec.html#sphx-glr-auto-examples-tutorials-run-word2vec-py}{here} $) since it creates word embeddings using Word2Vec.\n",
    "\n",
    "The code below can be used to get a file from the internet, convert a pdf into a txt file, create a model (i.e. word embeddings) for a given corpus, and evaluate a model. For my evaluation, first I looked at which words from a list I assembled had word embeddings created for them for each text. The word list I created is: \n",
    "[\"god\", \"good\", \"bad\", \"hell\", \"spiritual\", \"spirituality\", \"faith\", \"technology\", \"future\", \"love\", \"hate\", \"hateful\", \"evil\", \"friendship\", \"beauty\", \"religion\", \"devotion\", \"technological\", \"light\", \"dark\", \"darkness\", \"anger\", \"aid\", \"progress\", \"help\", \"quran\", \"bible\", \"torah\", \"jesus\", \"intelligence\", \"intelligent\", \"near\", \"believe\", \"listen\", \"beginning\", \"must\", \"should\", \"shouldn't\", \"not\", \"say\", \"be\", \"know\", \"make\", \"disbelieve\", \"come\", \"unity\", \"covenant\", \"time\", \"family\", \"prayer\", \"worship\", \"dance\", \"music\", \"healing\", \"reflection\", \"calm\", \"transformation\", \"transcendence\"]. I chose these words empirically and more words and different words could provide further analysis. If a text has a word embedding for a word, it means that word occured in a significant way in the text. Comparing the significant words in each text is one form of analysis. Second, I looked at how words that occured in multiple texts compared in meaning, through analyzing the closest words to specific words in each text.  Since word embeddings are vectors, there are many ways to compare how close the vectors are, such as Euclidean distance or cosine similarity. These methods give a reliable estimate of how close words are in meaning. \n",
    "\n",
    "I trained 5 models, one for each of the 5 texts listed above. These models are in the same folder as this project, so the code in the Analysis section below can be run."
   ]
  },
  {
   "cell_type": "markdown",
   "metadata": {},
   "source": [
    "### Code"
   ]
  },
  {
   "cell_type": "markdown",
   "metadata": {},
   "source": [
    "This code can be used if you want to create word embeddings for a text not listed above. (This is not the Analysis code)"
   ]
  },
  {
   "cell_type": "markdown",
   "metadata": {},
   "source": [
    "Here is the code to create a file from an internet link:"
   ]
  },
  {
   "cell_type": "code",
   "execution_count": null,
   "metadata": {},
   "outputs": [],
   "source": [
    "import requests\n",
    "def url_to_file(url, file_name):\n",
    "    # url is the url of the website you want to write\n",
    "    # file_name is what you want to name your file\n",
    "    r = requests.get(url, allow_redirects=True)\n",
    "    open(file_name, 'wb').write(r.content)"
   ]
  },
  {
   "cell_type": "markdown",
   "metadata": {},
   "source": [
    "Here is the code to turn a PDF into a txt file:"
   ]
  },
  {
   "cell_type": "code",
   "execution_count": null,
   "metadata": {},
   "outputs": [],
   "source": [
    "import textract\n",
    "def pdf_to_txt(pdf_path, file_name):\n",
    "    # pdf_path is the pathway to the pdf you want to copy\n",
    "    # file_name is what you want to name your file\n",
    "    text = textract.process(pdf_path).decode(\"utf-8\")\n",
    "    with open(file_name, \"a\") as f1:\n",
    "        for e in text:\n",
    "            f1.write(e)"
   ]
  },
  {
   "cell_type": "markdown",
   "metadata": {},
   "source": [
    "Here is the code to create and save a word2vec model for a given corpus (text):"
   ]
  },
  {
   "cell_type": "code",
   "execution_count": null,
   "metadata": {},
   "outputs": [],
   "source": [
    "from gensim import utils\n",
    "import gensim.models \n",
    "\n",
    "#source: gensim documentation \n",
    "#https://radimrehurek.com/gensim/auto_examples/tutorials/run_word2vec.html#sphx-glr-auto-examples-tutorials-run-word2vec-py\n",
    "\n",
    "class Corpus:\n",
    "    # YOU MUST REPLACE FILE_NAME WITH THE FILE YOU WANT TO CREATE WORD EMBEDDINGS FOR\n",
    "    def __iter__(self, file_name):\n",
    "        corpus_path = FILE_NAME\n",
    "        for line in open(corpus_path):\n",
    "            lower = line.lower()\n",
    "            # assume there's one document per line, tokens separated by whitespace\n",
    "            yield utils.simple_preprocess(lower)\n",
    "            \n",
    "\n",
    "def create_and_save_model(model_name):        \n",
    "    sentences = Corpus()\n",
    "    model = gensim.models.Word2Vec(sentences=sentences, window=10, size=100, negative=15)\n",
    "    model.wv.save(model_name)"
   ]
  },
  {
   "cell_type": "markdown",
   "metadata": {},
   "source": [
    "Here is code to evaluate a model:"
   ]
  },
  {
   "cell_type": "code",
   "execution_count": null,
   "metadata": {},
   "outputs": [],
   "source": [
    "# if you need to install gensim\n",
    "import sys\n",
    "!{sys.executable} -m pip install gensim"
   ]
  },
  {
   "cell_type": "code",
   "execution_count": 51,
   "metadata": {},
   "outputs": [],
   "source": [
    "from process import load_model # code from my NLP Professor McKeown to load in a saved model - reference 5\n",
    "def evaluate(model_path, word_choice=None, n=0, word_keys=False,word_similar=False):\n",
    "    # model_path is the path to the file containing your trained model\n",
    "    # word_choice is a word you want to analyze\n",
    "    # n is the number of words you want to see closest to \"word_choice\"\n",
    "    # input word_keys = True to see the word embeddings created from the list\n",
    "    # input word_similar = True to see the similar words\n",
    "    model = load_model(model_path)\n",
    "    \n",
    "    words = [\"god\",\"good\",\"bad\",\"hell\",\"spiritual\",\"spirituality\",\"faith\",\"technology\",\"future\",\n",
    "             \"love\",\"hate\",\"hateful\",\"evil\",\"friendship\",\"beauty\",\"religion\",\"devotion\",\"technological\",\"light\",\"dark\",\"darkness\",\n",
    "             \"anger\",\"aid\",\"progress\",\"help\",\"quran\",\"bible\",\"torah\",\"jesus\",\"intelligence\",\"intelligent\",\"near\",\"believe\",\"listen\",\n",
    "             \"beginning\",\"must\",\"should\",\"shouldn't\", \"not\",\"say\",\"be\",\"know\",\"make\",\"disbelieve\",\"come\",\"unity\",\"covenant\",\"time\",\n",
    "             \"family\",\"prayer\",\"worship\",\"dance\",\"music\",\"healing\",\"reflection\",\"calm\",\"transformation\",\"transcendence\"]\n",
    "    \n",
    "    if word_keys == True:\n",
    "        words_vec = {}\n",
    "        for word in words:\n",
    "            if word in model.index_to_key:\n",
    "                words_vec[word] = model[word]\n",
    "        print(words_vec.keys()) # this will print which of the above words have a word embedding for this model\n",
    "    if word_similar == True:\n",
    "        print(model.most_similar(positive=[word_choice], topn=n)) # this will print the closest n words to the user input "
   ]
  },
  {
   "cell_type": "markdown",
   "metadata": {},
   "source": [
    "## 4. Analysis <a class=\"anchor\" id=\"fourth-bullet\"></a>"
   ]
  },
  {
   "cell_type": "markdown",
   "metadata": {},
   "source": [
    "First, I will look at which words from the the given word list (in Methods) have word embeddings for each texts."
   ]
  },
  {
   "cell_type": "code",
   "execution_count": 52,
   "metadata": {},
   "outputs": [
    {
     "name": "stdout",
     "output_type": "stream",
     "text": [
      "dict_keys(['god', 'good', 'bad', 'love', 'hate', 'evil', 'light', 'dark', 'darkness', 'anger', 'help', 'near', 'believe', 'beginning', 'must', 'should', 'not', 'say', 'be', 'know', 'make', 'come', 'covenant', 'time', 'family', 'worship'])\n"
     ]
    }
   ],
   "source": [
    "evaluate(\"torah_model\",word_keys=True)"
   ]
  },
  {
   "cell_type": "code",
   "execution_count": 53,
   "metadata": {},
   "outputs": [
    {
     "name": "stdout",
     "output_type": "stream",
     "text": [
      "dict_keys(['god', 'good', 'bad', 'hell', 'spiritual', 'faith', 'future', 'love', 'hate', 'evil', 'religion', 'light', 'dark', 'darkness', 'anger', 'aid', 'help', 'bible', 'torah', 'jesus', 'intelligence', 'near', 'believe', 'listen', 'beginning', 'must', 'should', 'not', 'say', 'be', 'know', 'make', 'come', 'unity', 'covenant', 'time', 'family', 'prayer', 'worship', 'healing'])\n"
     ]
    }
   ],
   "source": [
    "evaluate(\"newT2_model\",word_keys=True)"
   ]
  },
  {
   "cell_type": "code",
   "execution_count": 54,
   "metadata": {},
   "outputs": [
    {
     "name": "stdout",
     "output_type": "stream",
     "text": [
      "dict_keys(['god', 'good', 'bad', 'hell', 'faith', 'future', 'love', 'evil', 'beauty', 'religion', 'devotion', 'light', 'dark', 'darkness', 'aid', 'help', 'quran', 'torah', 'jesus', 'near', 'believe', 'listen', 'must', 'should', 'not', 'say', 'be', 'know', 'make', 'disbelieve', 'come', 'covenant', 'time', 'family', 'prayer', 'worship'])\n"
     ]
    }
   ],
   "source": [
    "evaluate(\"quran_model\",word_keys=True)"
   ]
  },
  {
   "cell_type": "code",
   "execution_count": 55,
   "metadata": {},
   "outputs": [
    {
     "name": "stdout",
     "output_type": "stream",
     "text": [
      "dict_keys(['god', 'good', 'bad', 'hell', 'spiritual', 'faith', 'future', 'love', 'hate', 'hateful', 'evil', 'friendship', 'beauty', 'religion', 'devotion', 'light', 'dark', 'darkness', 'anger', 'aid', 'progress', 'help', 'intelligence', 'intelligent', 'near', 'believe', 'listen', 'beginning', 'must', 'should', 'not', 'say', 'be', 'know', 'make', 'come', 'unity', 'time', 'family', 'prayer', 'worship', 'dance', 'music', 'reflection', 'calm', 'transformation', 'transcendence'])\n"
     ]
    }
   ],
   "source": [
    "evaluate(\"sutras_model\",word_keys=True)"
   ]
  },
  {
   "cell_type": "code",
   "execution_count": 56,
   "metadata": {},
   "outputs": [
    {
     "name": "stdout",
     "output_type": "stream",
     "text": [
      "dict_keys(['god', 'good', 'bad', 'spiritual', 'spirituality', 'faith', 'technology', 'future', 'love', 'beauty', 'religion', 'technological', 'light', 'dark', 'anger', 'progress', 'help', 'intelligence', 'intelligent', 'near', 'believe', 'beginning', 'must', 'should', 'not', 'say', 'be', 'know', 'make', 'come', 'time', 'family', 'dance', 'music', 'healing', 'transformation', 'transcendence'])\n"
     ]
    }
   ],
   "source": [
    "evaluate(\"kerz_model\",word_keys=True)"
   ]
  },
  {
   "cell_type": "markdown",
   "metadata": {},
   "source": [
    "The words that appear in all 5 models are: god, good, bad, love, light, dark, help, near, believe, must, should, not, say, be, know, make, come, time, and family. Obviously many of these words are common, so it is expected they would appear in all five texts."
   ]
  },
  {
   "cell_type": "markdown",
   "metadata": {},
   "source": [
    "From these words, the ones I will look at for each text in terms of meaning (analyzed through observing the closest words in each corpus) are god, love, help, believe, time, and family. Below are the results of this analysis."
   ]
  },
  {
   "cell_type": "markdown",
   "metadata": {},
   "source": [
    "##### God"
   ]
  },
  {
   "cell_type": "code",
   "execution_count": 19,
   "metadata": {
    "scrolled": true
   },
   "outputs": [
    {
     "name": "stdout",
     "output_type": "stream",
     "text": [
      "[('lord', 0.976951003074646), ('am', 0.9735084772109985), ('unto', 0.9439782500267029), ('say', 0.9087826013565063), ('speak', 0.8895657658576965)]\n"
     ]
    }
   ],
   "source": [
    "evaluate(\"torah_model\",word_choice=\"god\",n=5,word_similar=True)"
   ]
  },
  {
   "cell_type": "code",
   "execution_count": 20,
   "metadata": {
    "scrolled": true
   },
   "outputs": [
    {
     "name": "stdout",
     "output_type": "stream",
     "text": [
      "[('kingdom', 0.9769559502601624), ('son', 0.9710891842842102), ('man', 0.9530459642410278), ('father', 0.9447643160820007), ('holy', 0.9362177848815918)]\n"
     ]
    }
   ],
   "source": [
    "evaluate(\"newT2_model\",word_choice=\"god\",n=5,word_similar=True)"
   ]
  },
  {
   "cell_type": "code",
   "execution_count": 21,
   "metadata": {
    "scrolled": true
   },
   "outputs": [
    {
     "name": "stdout",
     "output_type": "stream",
     "text": [
      "[('this', 0.9717682600021362), ('aware', 0.9487401247024536), ('life', 0.9439113140106201), ('there', 0.9438706636428833), ('created', 0.9416325688362122)]\n"
     ]
    }
   ],
   "source": [
    "evaluate(\"quran_model\",word_choice=\"god\",n=5,word_similar=True)"
   ]
  },
  {
   "cell_type": "code",
   "execution_count": 22,
   "metadata": {
    "scrolled": true
   },
   "outputs": [
    {
     "name": "stdout",
     "output_type": "stream",
     "text": [
      "[('ruler', 0.7737860083580017), ('naga', 0.7667900919914246), ('girl', 0.7633225917816162), ('deva', 0.7424041032791138), ('monk', 0.7392921447753906)]\n"
     ]
    }
   ],
   "source": [
    "evaluate(\"sutras_model\",word_choice=\"god\",n=5,word_similar=True)"
   ]
  },
  {
   "cell_type": "code",
   "execution_count": 23,
   "metadata": {},
   "outputs": [
    {
     "name": "stdout",
     "output_type": "stream",
     "text": [
      "[('aware', 0.9996523857116699), ('sense', 0.9996499419212341), ('truly', 0.9996347427368164), ('understood', 0.9996189475059509), ('interesting', 0.9996042251586914)]\n"
     ]
    }
   ],
   "source": [
    "evaluate(\"kerz_model\",word_choice=\"god\",n=5,word_similar=True)"
   ]
  },
  {
   "cell_type": "markdown",
   "metadata": {},
   "source": [
    "##### Love"
   ]
  },
  {
   "cell_type": "code",
   "execution_count": 24,
   "metadata": {},
   "outputs": [
    {
     "name": "stdout",
     "output_type": "stream",
     "text": [
      "[('bless', 0.9957671761512756), ('walk', 0.9946801662445068), ('grace', 0.994026780128479), ('send', 0.9939866065979004), ('seen', 0.9935408234596252)]\n"
     ]
    }
   ],
   "source": [
    "evaluate(\"torah_model\",word_choice=\"love\",n=5,word_similar=True)"
   ]
  },
  {
   "cell_type": "code",
   "execution_count": 25,
   "metadata": {
    "scrolled": true
   },
   "outputs": [
    {
     "name": "stdout",
     "output_type": "stream",
     "text": [
      "[('life', 0.9864934682846069), ('children', 0.980973482131958), ('now', 0.9778259992599487), ('world', 0.9751617908477783), ('evil', 0.9747287631034851)]\n"
     ]
    }
   ],
   "source": [
    "evaluate(\"newT2_model\",word_choice=\"love\",n=5,word_similar=True)"
   ]
  },
  {
   "cell_type": "code",
   "execution_count": 26,
   "metadata": {
    "scrolled": true
   },
   "outputs": [
    {
     "name": "stdout",
     "output_type": "stream",
     "text": [
      "[('though', 0.9986615777015686), ('like', 0.9985722899436951), ('befriend', 0.9985600113868713), ('fight', 0.9984509348869324), ('deny', 0.9982174634933472)]\n"
     ]
    }
   ],
   "source": [
    "evaluate(\"quran_model\",word_choice=\"love\",n=5,word_similar=True)"
   ]
  },
  {
   "cell_type": "code",
   "execution_count": 27,
   "metadata": {},
   "outputs": [
    {
     "name": "stdout",
     "output_type": "stream",
     "text": [
      "[('anger', 0.7281641364097595), ('experience', 0.6596127152442932), ('compassion', 0.6570759415626526), ('pride', 0.6524553298950195), ('instead', 0.6454290151596069)]\n"
     ]
    }
   ],
   "source": [
    "evaluate(\"sutras_model\",word_choice=\"love\",n=5,word_similar=True)"
   ]
  },
  {
   "cell_type": "code",
   "execution_count": 28,
   "metadata": {},
   "outputs": [
    {
     "name": "stdout",
     "output_type": "stream",
     "text": [
      "[('deterministic', 0.9997216463088989), ('play', 0.9996771216392517), ('philosophical', 0.9996574521064758), ('fine', 0.9996421337127686), ('reasonably', 0.9996315836906433)]\n"
     ]
    }
   ],
   "source": [
    "evaluate(\"kerz_model\",word_choice=\"love\",n=5,word_similar=True)"
   ]
  },
  {
   "cell_type": "markdown",
   "metadata": {},
   "source": [
    "##### Help"
   ]
  },
  {
   "cell_type": "code",
   "execution_count": 29,
   "metadata": {},
   "outputs": [
    {
     "name": "stdout",
     "output_type": "stream",
     "text": [
      "[('shoulder', 0.996380627155304), ('nazarite', 0.9960858225822449), ('whose', 0.9957234263420105), ('strive', 0.9956967830657959), ('levite', 0.9955308437347412)]\n"
     ]
    }
   ],
   "source": [
    "evaluate(\"torah_model\",word_choice=\"help\",n=5,word_similar=True)"
   ]
  },
  {
   "cell_type": "code",
   "execution_count": 30,
   "metadata": {},
   "outputs": [
    {
     "name": "stdout",
     "output_type": "stream",
     "text": [
      "[('salvation', 0.9983415603637695), ('hates', 0.9980167150497437), ('generation', 0.9969354271888733), ('gift', 0.9966675639152527), ('field', 0.9965217709541321)]\n"
     ]
    }
   ],
   "source": [
    "evaluate(\"newT2_model\",word_choice=\"help\",n=5,word_similar=True)"
   ]
  },
  {
   "cell_type": "code",
   "execution_count": 31,
   "metadata": {},
   "outputs": [
    {
     "name": "stdout",
     "output_type": "stream",
     "text": [
      "[('kill', 0.9993386268615723), ('unless', 0.9991624355316162), ('done', 0.9990635514259338), ('show', 0.9990074634552002), ('leave', 0.9989847540855408)]\n"
     ]
    }
   ],
   "source": [
    "evaluate(\"quran_model\",word_choice=\"help\",n=5,word_similar=True)"
   ]
  },
  {
   "cell_type": "code",
   "execution_count": 32,
   "metadata": {},
   "outputs": [
    {
     "name": "stdout",
     "output_type": "stream",
     "text": [
      "[('rescue', 0.8601909279823303), ('liberate', 0.8567422032356262), ('save', 0.8224580883979797), ('guide', 0.8115574717521667), ('protect', 0.8065330386161804)]\n"
     ]
    }
   ],
   "source": [
    "evaluate(\"sutras_model\",word_choice=\"help\",n=5,word_similar=True)"
   ]
  },
  {
   "cell_type": "code",
   "execution_count": 33,
   "metadata": {},
   "outputs": [
    {
     "name": "stdout",
     "output_type": "stream",
     "text": [
      "[('hidden', 0.9996360540390015), ('carry', 0.9996049404144287), ('themselves', 0.9995926022529602), ('forward', 0.9995738863945007), ('trying', 0.9995553493499756)]\n"
     ]
    }
   ],
   "source": [
    "evaluate(\"kerz_model\",word_choice=\"help\",n=5,word_similar=True)"
   ]
  },
  {
   "cell_type": "markdown",
   "metadata": {},
   "source": [
    "##### Believe"
   ]
  },
  {
   "cell_type": "code",
   "execution_count": 50,
   "metadata": {},
   "outputs": [
    {
     "name": "stdout",
     "output_type": "stream",
     "text": [
      "[('destroy', 0.9958902597427368), ('must', 0.995357096195221), ('shew', 0.9949186444282532), ('learn', 0.994861900806427), ('yourselves', 0.9936569929122925)]\n"
     ]
    }
   ],
   "source": [
    "evaluate(\"torah_model\",word_choice=\"believe\",n=5,word_similar=True)"
   ]
  },
  {
   "cell_type": "code",
   "execution_count": 35,
   "metadata": {
    "scrolled": true
   },
   "outputs": [
    {
     "name": "stdout",
     "output_type": "stream",
     "text": [
      "[('how', 0.9821194410324097), ('why', 0.9819338321685791), ('good', 0.9814241528511047), ('if', 0.9806294441223145), ('say', 0.9801679253578186)]\n"
     ]
    }
   ],
   "source": [
    "evaluate(\"newT2_model\",word_choice=\"believe\",n=5,word_similar=True)"
   ]
  },
  {
   "cell_type": "code",
   "execution_count": 36,
   "metadata": {},
   "outputs": [
    {
     "name": "stdout",
     "output_type": "stream",
     "text": [
      "[('disbelieve', 0.973732590675354), ('those', 0.9651306867599487), ('as', 0.9164444208145142), ('who', 0.9104007482528687), ('for', 0.9075016975402832)]\n"
     ]
    }
   ],
   "source": [
    "evaluate(\"quran_model\",word_choice=\"believe\",n=5,word_similar=True)"
   ]
  },
  {
   "cell_type": "code",
   "execution_count": 37,
   "metadata": {},
   "outputs": [
    {
     "name": "stdout",
     "output_type": "stream",
     "text": [
      "[('understand', 0.8410630822181702), ('accept', 0.7963632941246033), ('hear', 0.7942963242530823), ('explain', 0.7932987213134766), ('expound', 0.7911271452903748)]\n"
     ]
    }
   ],
   "source": [
    "evaluate(\"sutras_model\",word_choice=\"believe\",n=5,word_similar=True)"
   ]
  },
  {
   "cell_type": "code",
   "execution_count": 38,
   "metadata": {},
   "outputs": [
    {
     "name": "stdout",
     "output_type": "stream",
     "text": [
      "[('exist', 0.9991418123245239), ('keep', 0.999036431312561), ('answer', 0.9988981485366821), ('never', 0.9987106323242188), ('seem', 0.998703122138977)]\n"
     ]
    }
   ],
   "source": [
    "evaluate(\"kerz_model\",word_choice=\"believe\",n=5,word_similar=True)"
   ]
  },
  {
   "cell_type": "markdown",
   "metadata": {},
   "source": [
    "##### Time"
   ]
  },
  {
   "cell_type": "code",
   "execution_count": 39,
   "metadata": {},
   "outputs": [
    {
     "name": "stdout",
     "output_type": "stream",
     "text": [
      "[('barnea', 0.9929536581039429), ('morrow', 0.9910835027694702), ('soon', 0.9895708560943604), ('rise', 0.9845373630523682), ('battle', 0.9838935732841492)]\n"
     ]
    }
   ],
   "source": [
    "evaluate(\"torah_model\",word_choice=\"time\",n=5,word_similar=True)"
   ]
  },
  {
   "cell_type": "code",
   "execution_count": 40,
   "metadata": {
    "scrolled": true
   },
   "outputs": [
    {
     "name": "stdout",
     "output_type": "stream",
     "text": [
      "[('speaking', 0.9674149751663208), ('way', 0.961459755897522), ('born', 0.9597507119178772), ('jews', 0.9574048519134521), ('another', 0.9554117321968079)]\n"
     ]
    }
   ],
   "source": [
    "evaluate(\"newT2_model\",word_choice=\"time\",n=5,word_similar=True)"
   ]
  },
  {
   "cell_type": "code",
   "execution_count": 41,
   "metadata": {
    "scrolled": true
   },
   "outputs": [
    {
     "name": "stdout",
     "output_type": "stream",
     "text": [
      "[('curse', 0.9993693232536316), ('great', 0.9993361830711365), ('trumpet', 0.9993076324462891), ('event', 0.9992657899856567), ('dead', 0.9992477893829346)]\n"
     ]
    }
   ],
   "source": [
    "evaluate(\"quran_model\",word_choice=\"time\",n=5,word_similar=True)"
   ]
  },
  {
   "cell_type": "code",
   "execution_count": 42,
   "metadata": {
    "scrolled": true
   },
   "outputs": [
    {
     "name": "stdout",
     "output_type": "stream",
     "text": [
      "[('once', 0.722512423992157), ('arrive', 0.6874989867210388), ('arriving', 0.6826262474060059), ('arrived', 0.6790797710418701), ('varanasi', 0.631523609161377)]\n"
     ]
    }
   ],
   "source": [
    "evaluate(\"sutras_model\",word_choice=\"time\",n=5,word_similar=True)"
   ]
  },
  {
   "cell_type": "code",
   "execution_count": 43,
   "metadata": {},
   "outputs": [
    {
     "name": "stdout",
     "output_type": "stream",
     "text": [
      "[('up', 0.9824080467224121), ('point', 0.9820990562438965), ('century', 0.9808077812194824), ('first', 0.979413628578186), ('least', 0.9784272909164429)]\n"
     ]
    }
   ],
   "source": [
    "evaluate(\"kerz_model\",word_choice=\"time\",n=5,word_similar=True)"
   ]
  },
  {
   "cell_type": "markdown",
   "metadata": {},
   "source": [
    "##### Family"
   ]
  },
  {
   "cell_type": "code",
   "execution_count": 44,
   "metadata": {},
   "outputs": [
    {
     "name": "stdout",
     "output_type": "stream",
     "text": [
      "[('tribe', 0.984351396560669), ('families', 0.9631794691085815), ('manasseh', 0.9630259871482849), ('names', 0.9528656005859375), ('door', 0.9472162127494812)]\n"
     ]
    }
   ],
   "source": [
    "evaluate(\"torah_model\",word_choice=\"family\",n=5,word_similar=True)"
   ]
  },
  {
   "cell_type": "code",
   "execution_count": 45,
   "metadata": {
    "scrolled": true
   },
   "outputs": [
    {
     "name": "stdout",
     "output_type": "stream",
     "text": [
      "[('construction', 0.9990420937538147), ('ver', 0.9985904693603516), ('occurs', 0.9985619783401489), ('suspect', 0.998535692691803), ('jude', 0.9985139966011047)]\n"
     ]
    }
   ],
   "source": [
    "evaluate(\"newT2_model\",word_choice=\"family\",n=5,word_similar=True)"
   ]
  },
  {
   "cell_type": "code",
   "execution_count": 46,
   "metadata": {},
   "outputs": [
    {
     "name": "stdout",
     "output_type": "stream",
     "text": [
      "[('brings', 0.9983057975769043), ('imran', 0.9982855319976807), ('jesus', 0.9982729554176331), ('mary', 0.9980536699295044), ('livestock', 0.9979899525642395)]\n"
     ]
    }
   ],
   "source": [
    "evaluate(\"quran_model\",word_choice=\"family\",n=5,word_similar=True)"
   ]
  },
  {
   "cell_type": "code",
   "execution_count": 47,
   "metadata": {},
   "outputs": [
    {
     "name": "stdout",
     "output_type": "stream",
     "text": [
      "[('sons', 0.6881793141365051), ('daughters', 0.6345694661140442), ('virtuous', 0.6018772721290588), ('disciples', 0.5672810673713684), ('greatly', 0.5472813248634338)]\n"
     ]
    }
   ],
   "source": [
    "evaluate(\"sutras_model\",word_choice=\"family\",n=5,word_similar=True)"
   ]
  },
  {
   "cell_type": "code",
   "execution_count": 48,
   "metadata": {},
   "outputs": [
    {
     "name": "stdout",
     "output_type": "stream",
     "text": [
      "[('robot', 0.999488353729248), ('de', 0.9994779825210571), ('peterson', 0.9994078278541565), ('magazine', 0.9994045495986938), ('standards', 0.9993777275085449)]\n"
     ]
    }
   ],
   "source": [
    "evaluate(\"kerz_model\",word_choice=\"family\",n=5,word_similar=True)"
   ]
  },
  {
   "cell_type": "markdown",
   "metadata": {},
   "source": [
    "## 5. Results <a class=\"anchor\" id=\"fifth-bullet\"></a>"
   ]
  },
  {
   "cell_type": "markdown",
   "metadata": {},
   "source": [
    "Before diving into the results, I want to preface with some expectations and limitations of this analysis. First, for word embeddings, one sort of result that is expected when looking at similar words are the appearance of opposites. For example, words such as \"light\" and \"dark\" appear in very similar contexts (i.e. with similar surrounding words) and are used in very similar ways, thus we can expect their word embeddings to be similar. Essentially, this means that opposites will be similar in usage and meaning, but we know their meanings are opposite. In the results section I will ignore the opposites that appear in the analysis because they do not provide any insight.\n",
    "\n",
    "Another caveat for this analysis is that word embeddings generally improve with larger corpora. Since the 5 texts analyzed vary in size widely, with the Torah .txt I used having 5,000 lines of text, the New Testament .txt I used having 57,000 lines of text, the Quran .txt I used having 26,000 lines of text, the Sutras .txt I used having 430,000 lines of text, and the Singularity .txt I used having 22,000 lines of text, the quality of the word embeddings is not consistent across texts. Additionally, I did not edit the .txt files (because that would have taken hundreds of hours to edit), so the formatting and writing contains errors that may have impacted the results, but I am going to assume the impact is negligible. I also downloaded the texts from many different sources, so the copyright material, formatting, errors, and additional material vary across texts and also must be considered. Overall, the word embeddings may be of inconsistent quality across texts.\n",
    "\n",
    "Lastly, the most one can do is look at the words generated and explore their implications through thought; there is no way to qualitatively draw conclusions due to the limitations above and general subjectivity and bias. Thus, please feel free to come to your own conclusions, question my conclusions, and/or reject any conclusions entirely."
   ]
  },
  {
   "cell_type": "markdown",
   "metadata": {},
   "source": [
    "The words from the analysis I will discuss are god, love, believe, and family. Some of the interesting words that were most similar to the word \"god\" in the religious texts (i.e. texts 1-4) were lord, kingdom, son, man, holy, father, created, aware, life, ruler, and monk. From Kurzweil's $\\textit{The Singularity is Near}$, the most similar words were aware, sense, truly, understood, and interesting. One word, \"aware,\" overlapped between the Kurzweil and the religious texts, which was one of the only overlaps that occured in all of the analysis. Aside from this word, generally the religious texts associated god with more religious terms and in the typical religious way, as a holy ruler or father figure, compared with the Kurzweil words. \n",
    "\n",
    "Some of the interesting words that were most similar to the word \"love\" in the religious texts were bless, grace, children, life, world, befriend, experience, and compassion. From Kurzweil's $\\textit{The Singularity is Near}$, the most similar words were deterministic, play, philosophical, fine, and reasonably. Words like \"deterministic,\" \"philosophical,\" and \"reasonably\" all have analytical, logical connotations, compared with the more emotional, sentimental connotations of the religious texts' word similarites.\n",
    "\n",
    "For the word \"believe,\" the interesting words most similar from the religious texts were destroy, learn, how, why, good, understand, accept, and explain. From Kurzweil's $\\textit{The Singularity is Near}$, the most similar words were exist, keep, answer, never, and seem. The implication of the religious words perhaps could be related to the idea of faith, or that belief explains phenomena. The words from Kurzweil, like \"exist\" and \"answer,\" could potentially imply the opposite; that belief, instead of explaining or learning, means an answer or existance. The words are more definite and concrete; however, as I stated above, this interpretation is completely subjective and truly carries no weight.\n",
    "\n",
    "Lastly, for the word \"family,\" the interesting words most similar from the religious texts were tribe, construction, jude, jesus, mary, sons, daughters, disciples, and virtous. From Kurzweil's $\\textit{The Singularity is Near}$, the most interesting similar word was robot. Clearly, the implications for the religious words and \"robot\" are distict. "
   ]
  },
  {
   "cell_type": "markdown",
   "metadata": {},
   "source": [
    "## 6. Conclusions <a class=\"anchor\" id=\"sixth-bullet\"></a>"
   ]
  },
  {
   "cell_type": "markdown",
   "metadata": {},
   "source": [
    "From the above results, there seems to be patterns of connotation that separate the religious texts' words from Kurzweil's words. Generally, the religious texts' words are connected to more spiritual, emotional, faith based words, while Kurzweil's words are more based in logic, reason, and technology. The meaning of the words \"god,\" \"love,\" \"believe,\" and \"family\" seem to be different between Kurzweil's $\\textit{The Singularity is Near}$ and the 4 religious texts from this word embedding analysis.\n",
    "\n",
    "As for the questions I posed in the Introduction: \n",
    "1. Does this mean that the \"transformation\" or \"transcendence\" referred to by Kurzweil is distinct from the \"transformation\" or \"transcendence\" referenced in the Bible? \n",
    "    - While a word embedding for both \"transformation\" and \"transcendence\" was not generated from the New Testament model, I think it would be fair to predict that the words would not carry the same meaning (based on this word embedding definition of meaning and the above analysis). However, a word embedding for \"transendence\" was generated for both the Sutras and Kurzweil, and the results are below:"
   ]
  },
  {
   "cell_type": "code",
   "execution_count": 57,
   "metadata": {
    "scrolled": true
   },
   "outputs": [
    {
     "name": "stdout",
     "output_type": "stream",
     "text": [
      "[('dent', 0.837853193283081), ('marga', 0.8282855749130249), ('transmundane', 0.826538622379303), ('communality', 0.8250582218170166), ('bodhisattvahood', 0.8214079141616821)]\n"
     ]
    }
   ],
   "source": [
    "evaluate(\"sutras_model\",word_choice=\"transcendence\",n=5,word_similar=True)"
   ]
  },
  {
   "cell_type": "code",
   "execution_count": 58,
   "metadata": {},
   "outputs": [
    {
     "name": "stdout",
     "output_type": "stream",
     "text": [
      "[('varying', 0.9997367858886719), ('adult', 0.9997357726097107), ('local', 0.9997245669364929), ('targeted', 0.9997114539146423), ('toxins', 0.9997058510780334)]\n"
     ]
    }
   ],
   "source": [
    "evaluate(\"kerz_model\",word_choice=\"transcendence\",n=5,word_similar=True)"
   ]
  },
  {
   "cell_type": "markdown",
   "metadata": {},
   "source": [
    "From the above results, we can see that in Buddhism, transcendence is connected to Buddhism specific words. In Sanskrit, marga means \"path,\" referring to the path to salvation ([2](#reference2)). \"Transmundane\" means \"existing or extending beyond the physical world,\" or \"beyond this world or worldly considerations\" ([3](#reference3)). A bodhisattva is a \"person who is on the path towards Buddhahood\" ([4](#reference4)). For Kurzweil's words, they are clearly not Buddhist in meaning. Thus, it is a safe conclusion that \"transcendence\" in the Buddhist Sutras is not the same \"transcendence\" referred to by Kurzweil."
   ]
  },
  {
   "cell_type": "markdown",
   "metadata": {},
   "source": [
    "2. Are the Transhumanists who believe that the Singularity is the same as the Christian Rapture wrong, because although the words used to describe the two events are the same, their contexts lead to completely different meanings? \n",
    "    - I am going to say that this one is inconclusive."
   ]
  },
  {
   "cell_type": "markdown",
   "metadata": {},
   "source": [
    "3. Could the technological setting of Kurzweil's book lead to the same word meanings as the thousands-of-years old Bible? \n",
    "    - No. Words like \"robot\" that appear most similar in meaning to Kurzweil's \"family,\" obviously cannot appear in these ancient religious texts. Additionally, the settings of each text lead to at least slight differences in meaning (see the results section and the above analysis of the word \"transcendence\")"
   ]
  },
  {
   "cell_type": "markdown",
   "metadata": {},
   "source": [
    "Although this analysis technique has its faults, the results are still interesting to think about, and some results seem clear in meaning difference, like the above analysis of \"transcendence.\" Overall, despite the limitations, there seems to be differences in these words meanings, based on word embedding analysis, across texts. Thus, the meaning of some words is dependent on the text in which it appears."
   ]
  },
  {
   "cell_type": "markdown",
   "metadata": {},
   "source": [
    "## 7. References <a class=\"anchor\" id=\"seventh-bullet\"></a>"
   ]
  },
  {
   "cell_type": "markdown",
   "metadata": {},
   "source": [
    "1. https://learnreligions.com/major-mahayana-sutras-450031 <a class=\"anchor\" id=\"reference1\"></a>\n",
    "2. https://www.britannica.com/topic/marga-Indian-religion  <a class=\"anchor\" id=\"reference2\"></a>\n",
    "3. https://www.thefreedictionary.com/transmundane  <a class=\"anchor\" id=\"reference3\"></a>\n",
    "4. https://en.wikipedia.org/wiki/Bodhisattva  <a class=\"anchor\" id=\"reference4\"></a>\n",
    "5. NLP Lectures from Professor Kathleen McKeown at Columbia University <a class=\"anchor\" id=\"reference5\"></a>"
   ]
  },
  {
   "cell_type": "code",
   "execution_count": null,
   "metadata": {},
   "outputs": [],
   "source": []
  }
 ],
 "metadata": {
  "kernelspec": {
   "display_name": "Python 3",
   "language": "python",
   "name": "python3"
  },
  "language_info": {
   "codemirror_mode": {
    "name": "ipython",
    "version": 3
   },
   "file_extension": ".py",
   "mimetype": "text/x-python",
   "name": "python",
   "nbconvert_exporter": "python",
   "pygments_lexer": "ipython3",
   "version": "3.7.4"
  }
 },
 "nbformat": 4,
 "nbformat_minor": 2
}
